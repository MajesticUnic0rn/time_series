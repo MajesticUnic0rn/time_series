{
 "cells": [
  {
   "cell_type": "code",
   "execution_count": null,
   "id": "1c0490f0-a758-45fb-8fd8-810b4b81d96c",
   "metadata": {},
   "outputs": [],
   "source": [
    "# import packages\n",
    "import numpy as np\n",
    "import pandas as pd\n",
    "import statsmodels as sm\n",
    "from matplotlib import pyplot as plt\n",
    "from pylab import rcParams\n",
    "from sklearn.linear_model import LinearRegression\n",
    "from statsmodels.graphics.tsaplots import plot_acf, plot_pacf\n",
    "from statsmodels.tsa import api as smt\n",
    "from statsmodels.tsa.seasonal import seasonal_decompose\n",
    "from statsmodels.tsa.stattools import adfuller\n",
    "import matplotlib as mpl\n",
    "import warnings\n",
    "from pprint import pprint\n",
    "warnings.filterwarnings(\"ignore\")\n",
    "import plotly\n",
    "import plotly.graph_objs as go\n",
    "from plotly.offline import init_notebook_mode, iplot\n",
    "import lux\n",
    "import seaborn as sns\n",
    "import plots, metric # custom files for metrics/plots from util.plots - etc"
   ]
  },
  {
   "cell_type": "code",
   "execution_count": null,
   "id": "776b1d4e-26f3-40a1-8008-dacbb5a73d80",
   "metadata": {},
   "outputs": [],
   "source": [
    "date_column ='EffectiveDate'\n",
    "file_location = 'FleetForecasting_Top100ProductSubCategory_WithIHSData_Weather_BYDay_V2.csv'\n",
    "input_data_raw=pd.read_csv(file_location ,sep ='|',parse_dates=[date_column])\n",
    "input_data_copy = input_data_raw.copy()"
   ]
  },
  {
   "cell_type": "code",
   "execution_count": null,
   "id": "9f2ae9f9-3177-42ad-a03f-49be58c2a568",
   "metadata": {},
   "outputs": [],
   "source": [
    "input_data_copy.head()"
   ]
  },
  {
   "cell_type": "code",
   "execution_count": null,
   "id": "376e016c-5fe1-4e4a-ba0c-ccaaf1f679fa",
   "metadata": {},
   "outputs": [],
   "source": [
    "input_data_copy.RegionName.unique() # total of 13 regions - Strings needs to be cleaned before processing"
   ]
  },
  {
   "cell_type": "code",
   "execution_count": null,
   "id": "0a2c1974-3d78-4c83-a04f-cea370284d4d",
   "metadata": {},
   "outputs": [],
   "source": [
    "input_data_copy.ProductCategory_Nbl.nunique() # 207 different products represented"
   ]
  },
  {
   "cell_type": "code",
   "execution_count": null,
   "id": "b2de0919-f763-40b0-959c-28186aa91e03",
   "metadata": {},
   "outputs": [],
   "source": [
    "input_data_copy.ProductCategory_Desc.nunique() # discrepency of product category number"
   ]
  },
  {
   "cell_type": "code",
   "execution_count": null,
   "id": "ca505995-bf38-4a6e-a83c-a0a4ee465287",
   "metadata": {},
   "outputs": [],
   "source": [
    "input_data_copy.columns # column region is useless"
   ]
  },
  {
   "cell_type": "code",
   "execution_count": null,
   "id": "c139d01a-793f-4ee2-bf3b-ce97b46de6e7",
   "metadata": {},
   "outputs": [],
   "source": [
    "#input_data_copy.groupby('ProductCategory_Nbl').size().plot(kind='bar')"
   ]
  },
  {
   "cell_type": "code",
   "execution_count": null,
   "id": "391a3d7a-ec34-4c63-8068-d249c50da5a6",
   "metadata": {},
   "outputs": [],
   "source": [
    "input_data_copy['OnRent'].describe().apply(lambda x: format(x, 'f'))"
   ]
  },
  {
   "cell_type": "code",
   "execution_count": null,
   "id": "89b51abb-ed1f-484b-abe4-d3126bb3de8d",
   "metadata": {},
   "outputs": [],
   "source": [
    "# summary statistics there are 207 unique product categories we are taking a stab at \n",
    "# OnRent "
   ]
  },
  {
   "cell_type": "code",
   "execution_count": null,
   "id": "c8e2cb1e-428c-4e35-9974-9c280964ec52",
   "metadata": {},
   "outputs": [],
   "source": [
    "input_data_copy['RegionName'] = input_data_copy['RegionName'].str.replace(r\"[\\\"\\',< ]\", '')\n",
    "input_data_copy['ProductCategory_Desc'] = input_data_copy['ProductCategory_Desc'].str.replace(r\"[\\\"\\',< ]\", '')\n",
    "cols = ['ProductCategory_Nbl', 'ProductCategory_Desc']\n",
    "input_data_copy['eq_nm'] = input_data_copy[cols].apply(lambda row: '_'.join(row.values.astype(str)), axis=1)\n",
    "input_data_copy.Division = input_data_copy.Division.astype(str) # convert numerical to string for categorical"
   ]
  },
  {
   "cell_type": "markdown",
   "id": "56c816f6-f356-4d31-aa66-ff33e7459417",
   "metadata": {},
   "source": [
    "### Date time stamp on min/max time line"
   ]
  },
  {
   "cell_type": "code",
   "execution_count": null,
   "id": "897ff492-1405-4983-82f2-365310a5c0e8",
   "metadata": {},
   "outputs": [],
   "source": [
    "input_data_copy[date_column].min(), input_data_copy[date_column].max() # time stamp from the start to end"
   ]
  },
  {
   "cell_type": "markdown",
   "id": "6cc673b4-2474-43ef-8fe6-9f7677e1c4bb",
   "metadata": {},
   "source": [
    "## Distribution of On Rent per region"
   ]
  },
  {
   "cell_type": "code",
   "execution_count": null,
   "id": "69cb975c-3126-4736-9407-8e966095ad62",
   "metadata": {},
   "outputs": [],
   "source": [
    "input_data_copy['OnRent'].hist(by=input_data_copy['RegionName'], figsize = (16,18)) #OnRent quantity per region"
   ]
  },
  {
   "cell_type": "code",
   "execution_count": null,
   "id": "e72cdd77-239c-49ff-a029-6d8b15331038",
   "metadata": {},
   "outputs": [],
   "source": [
    "(input_data_copy.groupby(['OnRent', 'ProductCategory_Desc'], as_index=False).mean())"
   ]
  },
  {
   "cell_type": "code",
   "execution_count": null,
   "id": "cdb9ae3a-7f78-4e59-a449-d3d2890e9191",
   "metadata": {},
   "outputs": [],
   "source": [
    "input_data_copy.tail()"
   ]
  },
  {
   "cell_type": "code",
   "execution_count": null,
   "id": "4b103640-15f4-40f1-8981-f32e30922665",
   "metadata": {},
   "outputs": [],
   "source": [
    "subset_100_input_data_copy=input_data_copy.loc[(input_data_copy['OnRent'] >= 100)]"
   ]
  },
  {
   "cell_type": "code",
   "execution_count": null,
   "id": "942782b7-c04f-4cfd-bc85-d732fde62da5",
   "metadata": {},
   "outputs": [],
   "source": [
    "subset_100_input_data_copy.ProductCategory_Desc.nunique() # list of machines that have over 100 on rent status. \n",
    "                                                          # 41 machines. 20% of products have rentals over 100 at a given point"
   ]
  },
  {
   "cell_type": "code",
   "execution_count": null,
   "id": "d14afd87-5fd3-41e3-bcee-4b8629a98fb5",
   "metadata": {},
   "outputs": [],
   "source": [
    "subset_100_input_data_copy.ProductCategory_Desc"
   ]
  },
  {
   "cell_type": "code",
   "execution_count": null,
   "id": "734d52c0-705f-47a1-b899-42a014720917",
   "metadata": {},
   "outputs": [],
   "source": [
    "subset_100_input_data_copy['OnRent'].hist(by=subset_100_input_data_copy['RegionName'], figsize = (16,18)) "
   ]
  },
  {
   "cell_type": "code",
   "execution_count": null,
   "id": "305e4917-f336-44b5-98ef-0a93bbea1be9",
   "metadata": {},
   "outputs": [],
   "source": [
    "subset_250_input_data_copy=input_data_copy.loc[(input_data_copy['OnRent'] >= 250)]"
   ]
  },
  {
   "cell_type": "code",
   "execution_count": null,
   "id": "b96631d8-568a-4f27-9d90-455e0c59f7e7",
   "metadata": {},
   "outputs": [],
   "source": [
    "subset_250_input_data_copy.ProductCategory_Desc.nunique() ## 11 machines are over 250 on rent at a single point"
   ]
  },
  {
   "cell_type": "markdown",
   "id": "fbb72d71-bb26-4dbd-b23e-f4379934425d",
   "metadata": {},
   "source": [
    "## Total Company On Rent "
   ]
  },
  {
   "cell_type": "code",
   "execution_count": null,
   "id": "885d09bc-cc56-4d59-a697-59f411c9203d",
   "metadata": {},
   "outputs": [],
   "source": [
    "daily_OnRent = input_data_copy.groupby(date_column, as_index=False)['OnRent'].sum()"
   ]
  },
  {
   "cell_type": "code",
   "execution_count": null,
   "id": "8064fae7-3058-4827-81fa-ba1bf3aa7301",
   "metadata": {},
   "outputs": [],
   "source": [
    "import plotly.offline as pyo\n",
    "import plotly.graph_objs as go\n",
    "pyo.init_notebook_mode()\n",
    "\n",
    "daily_sales_sc = go.Scatter(x=daily_OnRent[date_column], y=daily_OnRent['OnRent'])\n",
    "layout = go.Layout(title='Total Daily OnRent', xaxis=dict(title='Date'), yaxis=dict(title='OnRent'))\n",
    "fig = go.Figure(data=[daily_sales_sc], layout=layout)\n",
    "iplot(fig)"
   ]
  },
  {
   "cell_type": "markdown",
   "id": "126619af-d3d8-4985-ae18-e0f979f2129b",
   "metadata": {},
   "source": [
    "## Regional On Rent on Daily Scale"
   ]
  },
  {
   "cell_type": "code",
   "execution_count": null,
   "id": "e7fb29eb-0e00-414f-ad51-b63d90f7f026",
   "metadata": {},
   "outputs": [],
   "source": [
    "region_daily_sales = input_data_copy.groupby(['RegionName', date_column], as_index=False)['OnRent'].sum()"
   ]
  },
  {
   "cell_type": "code",
   "execution_count": null,
   "id": "59dcd76c-0797-46e8-89c9-4e125eaa11ea",
   "metadata": {},
   "outputs": [],
   "source": [
    "store_daily_sales_sc = []\n",
    "for store in region_daily_sales['RegionName'].unique():\n",
    "    current_store_daily_sales = region_daily_sales[(region_daily_sales['RegionName'] == store)]\n",
    "    store_daily_sales_sc.append(go.Scatter(x=current_store_daily_sales[date_column], y=current_store_daily_sales['OnRent'], name=('Region: %s' % store)))\n",
    "\n",
    "layout = go.Layout(title='Region daily OnRent', xaxis=dict(title='Date'), yaxis=dict(title='OnRent'))\n",
    "fig = go.Figure(data=store_daily_sales_sc, layout=layout)\n",
    "iplot(fig)"
   ]
  },
  {
   "cell_type": "code",
   "execution_count": null,
   "id": "610d9b38-4926-4ca2-93a3-c16edfdc66f2",
   "metadata": {},
   "outputs": [],
   "source": [
    "input_data_copy.head()"
   ]
  },
  {
   "cell_type": "markdown",
   "id": "0b05303e-2323-48d3-9982-930a93af3e12",
   "metadata": {},
   "source": [
    "### Daily Item analysis "
   ]
  },
  {
   "cell_type": "code",
   "execution_count": null,
   "id": "dc1be9d4-1b42-44d6-9e1d-790a3ecc053f",
   "metadata": {},
   "outputs": [],
   "source": [
    "item_daily_sales = input_data_copy.groupby(['eq_nm', date_column], as_index=False)['OnRent'].sum()"
   ]
  },
  {
   "cell_type": "code",
   "execution_count": null,
   "id": "69fc1328-5adf-423b-aea8-bffa04f16d2a",
   "metadata": {},
   "outputs": [],
   "source": [
    "item_daily_sales_sc = []\n",
    "for item in item_daily_sales['eq_nm'].unique():\n",
    "    current_item_daily_sales = item_daily_sales[(item_daily_sales['eq_nm'] == item)]\n",
    "    item_daily_sales_sc.append(go.Scatter(x=current_item_daily_sales[date_column], y=current_item_daily_sales['OnRent'], name=('Item %s' % item)))\n",
    "\n",
    "layout = go.Layout(title='Item daily OnRent', xaxis=dict(title='Date'), yaxis=dict(title='OnRent'))\n",
    "fig = go.Figure(data=item_daily_sales_sc, layout=layout)\n",
    "iplot(fig)"
   ]
  },
  {
   "cell_type": "code",
   "execution_count": null,
   "id": "7105aeca-17a2-4c35-89a7-c4222c434cbc",
   "metadata": {},
   "outputs": [],
   "source": [
    "## Random Autocorrelation for unique time series "
   ]
  },
  {
   "cell_type": "code",
   "execution_count": null,
   "id": "f4b7a53c-a36b-4bc2-8e32-264b3bf84855",
   "metadata": {},
   "outputs": [],
   "source": [
    "input_data_copy.head()"
   ]
  },
  {
   "cell_type": "markdown",
   "id": "d4b94428-b5fa-4c06-954b-1f7cab55a182",
   "metadata": {},
   "source": [
    "### Additional EDA stats if necessary"
   ]
  },
  {
   "cell_type": "code",
   "execution_count": null,
   "id": "136f4cc6-3b72-4068-aa0c-d39c10a159f9",
   "metadata": {},
   "outputs": [],
   "source": [
    "eda_discovery=input_data_copy[['DRKey','EffectiveDate','OnRent']]\n",
    "date_column = 'EffectiveDate'"
   ]
  },
  {
   "cell_type": "code",
   "execution_count": null,
   "id": "c459731c-2237-46a2-acd6-40e6a7c84e2c",
   "metadata": {},
   "outputs": [],
   "source": [
    "eda_discovery.head()"
   ]
  },
  {
   "cell_type": "code",
   "execution_count": null,
   "id": "32b7f493-a3de-4532-944e-0bbd456973be",
   "metadata": {},
   "outputs": [],
   "source": [
    "split_date = '2019-5-20'\n",
    "eda_discovery.sort_values(by=['DRKey',date_column], ascending=True,inplace=True)\n",
    "eda_discovery.drop(eda_discovery.loc[eda_discovery[date_column] < '2015-05-01 00:00:00'].index, inplace=True) # removing years before 2015 and 2020 before covid\n",
    "eda_discovery.drop(eda_discovery.loc[eda_discovery[date_column] > '2020-02-01 01:00:00'].index, inplace=True)\n",
    "eda_discovery.rename(columns={'DRKey': 'unique_id'},inplace = True)\n",
    "eda_discovery.rename(columns={'EffectiveDate': 'ds'},inplace = True)\n",
    "eda_discovery.rename(columns={'OnRent': 'y'},inplace = True)\n",
    "date_column = 'ds' #changing column name for stat forecast\n",
    "df_training = eda_discovery.loc[eda_discovery[date_column] <= split_date]\n",
    "df_test = eda_discovery.loc[eda_discovery[date_column] > split_date]"
   ]
  },
  {
   "cell_type": "code",
   "execution_count": null,
   "id": "57d88659-7745-4adb-a83d-cdb662a4281a",
   "metadata": {},
   "outputs": [],
   "source": [
    "df_training"
   ]
  },
  {
   "cell_type": "code",
   "execution_count": null,
   "id": "df9956f6-0b9d-4ada-b08e-7989a66f454e",
   "metadata": {},
   "outputs": [],
   "source": [
    "plots.plot_grid(df_training,df_test)"
   ]
  },
  {
   "cell_type": "code",
   "execution_count": null,
   "id": "67c2b7f3-7edd-448c-bd6d-d149399ea3ba",
   "metadata": {},
   "outputs": [],
   "source": [
    "plots.plot_autocorrelation_grid(df_training)"
   ]
  },
  {
   "cell_type": "code",
   "execution_count": null,
   "id": "e348d2fa-0ccc-4dcd-bdad-c92de26fea2d",
   "metadata": {},
   "outputs": [],
   "source": [
    "## filter region look up \n",
    "# use_region = ['REGION 04']\n",
    "# input_data_copy = input_data_copy[input_data_copy.RegionName.isin(use_region)]"
   ]
  },
  {
   "cell_type": "code",
   "execution_count": null,
   "id": "4c00c0a9-0259-4c44-9178-01a1da382781",
   "metadata": {},
   "outputs": [],
   "source": [
    "## Shorten Columns"
   ]
  },
  {
   "cell_type": "code",
   "execution_count": null,
   "id": "cb2a177b-2d3d-4119-b026-88f2cabb9317",
   "metadata": {},
   "outputs": [],
   "source": [
    "#feature_importance = [col for col in input_data_copy.columns if col not in ['Region','clean_time','Rental', 'QtyOwned', \"ProductCategory_Nbl\",\"ProductCategory_Desc\"]]"
   ]
  }
 ],
 "metadata": {
  "kernelspec": {
   "display_name": "Python 3.8 - AzureML",
   "language": "python",
   "name": "python38-azureml"
  },
  "language_info": {
   "codemirror_mode": {
    "name": "ipython",
    "version": 3
   },
   "file_extension": ".py",
   "mimetype": "text/x-python",
   "name": "python",
   "nbconvert_exporter": "python",
   "pygments_lexer": "ipython3",
   "version": "3.8.5"
  }
 },
 "nbformat": 4,
 "nbformat_minor": 5
}
