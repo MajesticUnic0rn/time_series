{
 "cells": [
  {
   "cell_type": "code",
   "execution_count": null,
   "id": "a8f58650",
   "metadata": {},
   "outputs": [],
   "source": [
    "### Automl for daily forecasting"
   ]
  },
  {
   "cell_type": "code",
   "execution_count": null,
   "id": "102691b2",
   "metadata": {},
   "outputs": [],
   "source": [
    "# import packages\n",
    "import numpy as np\n",
    "import pandas as pd\n",
    "import statsmodels as sm\n",
    "from matplotlib import pyplot as plt\n",
    "## mlflow integration for model experimentation\n",
    "import mlflow\n",
    "import mlflow.sklearn\n",
    "from mlflow.tracking import MlflowClient\n",
    "from mlflow.models.signature import infer_signature\n",
    "import shap\n",
    "import seaborn as sns\n",
    "# from pylab import rcParams\n",
    "# from sklearn.linear_model import LinearRegression\n",
    "# from statsmodels.graphics.tsaplots import plot_acf, plot_pacf\n",
    "# from statsmodels.tsa import api as smt\n",
    "# from statsmodels.tsa.seasonal import seasonal_decompose\n",
    "# from statsmodels.tsa.stattools import adfuller\n",
    "import matplotlib as mpl\n",
    "import warnings\n",
    "from pprint import pprint\n",
    "warnings.filterwarnings(\"ignore\")\n",
    "#modeling packages\n",
    "#from tqdm import tqdm\n",
    "#from statsmodels.tsa.holtwinters import ExponentialSmoothing, SimpleExpSmoothing\n",
    "import metric\n",
    "from metric import evaluate\n",
    "#complex amra model\n",
    "# from statsmodels.tsa.ar_model import AR\n",
    "# from statsmodels.tsa.arima_model import ARIMA, ARMA\n",
    "# from statsmodels.tsa.holtwinters import ExponentialSmoothing, SimpleExpSmoothing\n",
    "# pm model \n",
    "# import six\n",
    "# import sys\n",
    "# sys.modules['sklearn.externals.six'] = six\n",
    "# import mlrose\n",
    "# import joblib\n",
    "# sys.modules['sklearn.externals.joblib'] = joblib\n",
    "# import pmdarima as pm\n",
    "# from statsmodels.tsa.statespace.sarimax import SARIMAX\n",
    "#ensemble modeling\n",
    "import lightgbm as lgbm\n",
    "from sklearn.model_selection import GridSearchCV, cross_val_score\n",
    "from sklearn.preprocessing import StandardScaler\n",
    "from sklearn.compose import ColumnTransformer\n",
    "\n",
    "\n",
    "import plots \n",
    "from plots import plot_autocorrelation_grid, plot_grid\n",
    "import eng_feature \n",
    "from eng_feature import check_df,lag_features,roll_mean_features,ewm_features,create_time_features"
   ]
  },
  {
   "cell_type": "code",
   "execution_count": null,
   "id": "cf9b81e6-c29e-41bf-b325-f6dfb19b1c96",
   "metadata": {},
   "outputs": [],
   "source": [
    "# stat forecaster use\n",
    "import random\n",
    "import time\n",
    "from multiprocessing import cpu_count, Pool # for prophet\n",
    "from itertools import product\n",
    "import matplotlib.pyplot as plt\n",
    "from statsforecast.core import StatsForecast\n",
    "from statsforecast.models import auto_arima\n",
    "from statsmodels.graphics.tsaplots import plot_acf\n",
    "from sklearn.model_selection import ParameterGrid\n",
    "\n",
    "from statsforecast.models import (\n",
    "    adida, \n",
    "    croston_classic, \n",
    "    croston_sba, \n",
    "    croston_optimized,\n",
    "    historic_average,\n",
    "    imapa,\n",
    "    naive,\n",
    "    random_walk_with_drift, \n",
    "    seasonal_exponential_smoothing,\n",
    "    seasonal_naive, \n",
    "    seasonal_window_average,\n",
    "    ses, \n",
    "    tsb,\n",
    "    window_average\n",
    ")\n"
   ]
  },
  {
   "cell_type": "code",
   "execution_count": null,
   "id": "3eb758dd",
   "metadata": {},
   "outputs": [],
   "source": [
    "date_column ='EffectiveDate'\n",
    "file_location = 'FleetForecasting_Top100ProductSubCategory_WithIHSData_Weather_BYDay_V2.csv'\n",
    "input_data_raw=pd.read_csv(file_location ,sep ='|',parse_dates=[date_column])\n",
    "input_data_copy = input_data_raw.copy()"
   ]
  },
  {
   "cell_type": "code",
   "execution_count": null,
   "id": "9f0152eb",
   "metadata": {},
   "outputs": [],
   "source": [
    "input_data_copy.head()"
   ]
  },
  {
   "cell_type": "code",
   "execution_count": null,
   "id": "552af760-3a01-4d10-8517-2f90cd1ee5d1",
   "metadata": {},
   "outputs": [],
   "source": [
    "#input_data_copy=input_data_copy[input_data_copy[\"Division\"].isin([502,503,504,510,511])]"
   ]
  },
  {
   "cell_type": "code",
   "execution_count": null,
   "id": "4b0132c3",
   "metadata": {},
   "outputs": [],
   "source": [
    "input_data_copy.columns"
   ]
  },
  {
   "cell_type": "code",
   "execution_count": null,
   "id": "a317632d",
   "metadata": {},
   "outputs": [],
   "source": [
    "input_data_copy.shape"
   ]
  },
  {
   "cell_type": "code",
   "execution_count": null,
   "id": "cc23965f",
   "metadata": {},
   "outputs": [],
   "source": [
    "input_data_copy.head()"
   ]
  },
  {
   "cell_type": "code",
   "execution_count": null,
   "id": "b1b76920",
   "metadata": {},
   "outputs": [],
   "source": [
    "input_data_copy[['EffectiveDate','ProductCategory_Nbl','ProductCategory_Desc','Division','DRKey']].nunique() \n",
    "# list out amount of unqiue data for each column - nbl and desc is missing one eq?"
   ]
  },
  {
   "cell_type": "code",
   "execution_count": null,
   "id": "2e4c67ef",
   "metadata": {},
   "outputs": [],
   "source": [
    "input_data_copy.sort_values(by=['EffectiveDate'], ascending=True,inplace=True)"
   ]
  },
  {
   "cell_type": "code",
   "execution_count": null,
   "id": "68ddb56b",
   "metadata": {},
   "outputs": [],
   "source": [
    "input_data_copy.head()"
   ]
  },
  {
   "cell_type": "code",
   "execution_count": null,
   "id": "fd4a3282-6ffb-4cdc-aa42-b60b4fa1c55f",
   "metadata": {},
   "outputs": [],
   "source": [
    "input_data_copy[date_column].min(), input_data_copy[date_column].max()  "
   ]
  },
  {
   "cell_type": "code",
   "execution_count": null,
   "id": "5d546437-5754-4ebb-ac57-3f95ba317542",
   "metadata": {},
   "outputs": [],
   "source": [
    "input_data_copy[\"OnRent\"].describe([0.10, 0.30, 0.50, 0.70, 0.80, 0.90, 0.95, 0.99])"
   ]
  },
  {
   "cell_type": "code",
   "execution_count": null,
   "id": "199db3c5",
   "metadata": {},
   "outputs": [],
   "source": [
    "input_data_copy['clean_time']=pd.to_datetime(input_data_copy[date_column]) # do i need this? \n",
    "input_data_copy.sort_values(by=['DRKey',date_column], ascending=False,inplace=True)\n",
    "input_data_copy['ProductCategory_Desc'] = input_data_copy['ProductCategory_Desc'].str.replace(r\"[\\\"\\',< ]\", '')\n",
    "cols = ['ProductCategory_Nbl', 'ProductCategory_Desc']\n",
    "input_data_copy['eq_nm'] = input_data_copy[cols].apply(lambda row: '_'.join(row.values.astype(str)), axis=1)\n",
    "input_data_copy = lag_features(input_data_copy, [91, 98, 105, 112, 119, 126, 182, 364])\n",
    "check_df(input_data_copy)\n",
    "# input_data_copy['OnRent_diff']=input_data_copy.groupby('DRKey')['OnRent'].diff(7)\n",
    "# input_data_copy['AvgTemp_diff'] = input_data_copy.groupby('DRKey')['AvgTemp'].diff(7)\n",
    "# input_data_copy['AvgPrcp_diff'] = input_data_copy.groupby('DRKey')['AvgPrcp'].diff(7) \n",
    "# establish difference with 1 month period rolling for stationarity"
   ]
  },
  {
   "cell_type": "code",
   "execution_count": null,
   "id": "70863d21-6ad5-48ad-9dbf-743f482dc8fb",
   "metadata": {},
   "outputs": [],
   "source": [
    "input_data_copy = roll_mean_features(input_data_copy, [365, 546])\n",
    "input_data_copy.tail()"
   ]
  },
  {
   "cell_type": "code",
   "execution_count": null,
   "id": "e0ea5b22-07bf-4d8f-86dd-eda723389b86",
   "metadata": {},
   "outputs": [],
   "source": [
    "alphas = [0.95, 0.9, 0.8, 0.7, 0.5]\n",
    "lags = [91, 98, 105, 112, 180, 270, 365]\n",
    "input_data_copy = ewm_features(input_data_copy, alphas, lags)\n",
    "check_df(input_data_copy)"
   ]
  },
  {
   "cell_type": "code",
   "execution_count": null,
   "id": "fb33370b-6d4b-4416-9a88-5bc8144bfb13",
   "metadata": {},
   "outputs": [],
   "source": [
    "#input_data_copy['OnRent'] = np.log1p(input_data_copy[\"OnRent\"].values)"
   ]
  },
  {
   "cell_type": "code",
   "execution_count": null,
   "id": "302fc345-7488-40a9-86ff-c4c3bd4b3cf0",
   "metadata": {},
   "outputs": [],
   "source": [
    "input_data_copy.groupby([\"Division\", \"eq_nm\"]).agg({\"OnRent\": [\"sum\", \"mean\", \"median\", \"std\"]})"
   ]
  },
  {
   "cell_type": "code",
   "execution_count": null,
   "id": "e6cb0680-b287-4ae6-9d45-d0e3a9274333",
   "metadata": {},
   "outputs": [],
   "source": [
    "feature_importance = [col for col in input_data_copy.columns if col not in ['RegionName','clean_time','Rental', 'QtyOwned', \"ProductCategory_Desc\",'ProductCategory_Nbl']]"
   ]
  },
  {
   "cell_type": "code",
   "execution_count": null,
   "id": "e8d207c7-5ee7-4b72-9343-df8984eaf542",
   "metadata": {},
   "outputs": [],
   "source": [
    "feature_importance"
   ]
  },
  {
   "cell_type": "code",
   "execution_count": null,
   "id": "b16eb878-b7a6-4ba8-be41-4effb7e71a63",
   "metadata": {},
   "outputs": [],
   "source": [
    "input_data_copy.head()"
   ]
  },
  {
   "cell_type": "code",
   "execution_count": null,
   "id": "4b38cc22",
   "metadata": {
    "tags": []
   },
   "outputs": [],
   "source": [
    "#feature_importance=['OnRent',date_column,'eq_nm','Division','IHSRentalMarket','AvgTemp','AvgPrcp'] # not adding differencing just yet\n",
    "sg_district_elect=input_data_copy.copy()\n",
    "sg_district_elect_train=sg_district_elect[feature_importance]"
   ]
  },
  {
   "cell_type": "code",
   "execution_count": null,
   "id": "0893a3b0",
   "metadata": {},
   "outputs": [],
   "source": [
    "sg_district_elect_train.head()"
   ]
  },
  {
   "cell_type": "code",
   "execution_count": null,
   "id": "3f380487",
   "metadata": {},
   "outputs": [],
   "source": [
    "sg_district_elect_train.drop(sg_district_elect_train.loc[sg_district_elect_train[date_column] < '2015-05-01 00:00:00'].index, inplace=True) # prob dont need because data is from 2016\n",
    "# drop 2020 for covid\n",
    "sg_district_elect_train.drop(sg_district_elect_train.loc[sg_district_elect_train[date_column] > '2020-02-01 01:00:00'].index, inplace=True)"
   ]
  },
  {
   "cell_type": "code",
   "execution_count": null,
   "id": "31d9c5ba",
   "metadata": {},
   "outputs": [],
   "source": [
    "sg_district_elect_train.set_index(date_column,inplace=True)\n",
    "sg_district_elect_train.sort_index(inplace=True)\n",
    "#sg_district_elect_train.dropna(inplace=True)"
   ]
  },
  {
   "cell_type": "code",
   "execution_count": null,
   "id": "b7da7a6a-c1f4-4169-b373-92157b78be96",
   "metadata": {},
   "outputs": [],
   "source": [
    "sg_district_elect_train.head()"
   ]
  },
  {
   "cell_type": "code",
   "execution_count": null,
   "id": "bf6169d8-1117-4ec6-aa5c-1823e7f50cec",
   "metadata": {},
   "outputs": [],
   "source": [
    "sg_training = sg_district_elect_train.copy()\n",
    "split_date = '2019-5-20'\n",
    "df_training = sg_training.loc[sg_training.index <= split_date]\n",
    "df_test = sg_training.loc[sg_training.index > split_date]"
   ]
  },
  {
   "cell_type": "markdown",
   "id": "519a7d25",
   "metadata": {},
   "source": [
    "## Add time features for date_column"
   ]
  },
  {
   "cell_type": "code",
   "execution_count": null,
   "id": "581071c4",
   "metadata": {},
   "outputs": [],
   "source": [
    "categorical_features =['eq_nm','Division','Region']\n",
    "target = 'OnRent'"
   ]
  },
  {
   "cell_type": "code",
   "execution_count": null,
   "id": "41b91760",
   "metadata": {},
   "outputs": [],
   "source": [
    "sg_district_elect_train=pd.get_dummies(sg_district_elect_train,columns=categorical_features)"
   ]
  },
  {
   "cell_type": "code",
   "execution_count": null,
   "id": "a5374b30",
   "metadata": {},
   "outputs": [],
   "source": [
    "sg_training=sg_district_elect_train\n",
    "# differencing and dropping first index\n",
    "#sg_training = sg_training.diff(periods=1)\n",
    "#sg_training.drop(index=sg_training.index[0], axis=0, inplace=True)\n",
    "split_date = '2019-5-20'\n",
    "df_training = sg_training.loc[sg_training.index <= split_date]\n",
    "df_test = sg_training.loc[sg_training.index > split_date]\n",
    "print(f\"{len(df_training)} months of training data \\n {len(df_test)} months of testing data \")"
   ]
  },
  {
   "cell_type": "code",
   "execution_count": null,
   "id": "764abbd3-57f3-4fd4-b137-44f5a7c06973",
   "metadata": {},
   "outputs": [],
   "source": [
    "df_training.index.min(), df_training.index.max()"
   ]
  },
  {
   "cell_type": "code",
   "execution_count": null,
   "id": "1ef241a9-89cf-4d67-be43-2c56df22be58",
   "metadata": {},
   "outputs": [],
   "source": [
    "# include oberservations - list out all the stuff out"
   ]
  },
  {
   "cell_type": "code",
   "execution_count": null,
   "id": "d558454c-b658-4e3c-a036-1e269b615b85",
   "metadata": {},
   "outputs": [],
   "source": [
    "df_test.index.min(), df_test.index.max() #8 months of testing out -"
   ]
  },
  {
   "cell_type": "code",
   "execution_count": null,
   "id": "54d0d4ed",
   "metadata": {},
   "outputs": [],
   "source": [
    "X_train_df, y_train = create_time_features(\n",
    "    df_training, target=target)\n",
    "\n",
    "X_test_df, y_test = create_time_features(df_test, target=target)\n",
    "\n",
    "numerical_data = ['hour',\n",
    " 'dayofweek',\n",
    " 'quarter',\n",
    " 'month',\n",
    " 'year',\n",
    " 'dayofyear',\n",
    " 'sin_day',\n",
    " 'cos_day',\n",
    " 'dayofmonth',\n",
    " 'weekofyear']\n",
    "\n",
    "categorical_data=set(X_train_df.columns)-set(numerical_data)\n",
    "print(f'I have {len(categorical_data)} of categorical data and {len(numerical_data)} numerical features') # inaccurate have to add ihs and other diff - no point for this fstring\n",
    "##TODO remove fstring find out easier way to identify numerical data - data values more than 2???"
   ]
  },
  {
   "cell_type": "code",
   "execution_count": null,
   "id": "dd104dd3",
   "metadata": {},
   "outputs": [],
   "source": [
    "# ct = ColumnTransformer([\n",
    "#         ('standard', StandardScaler(),numerical_data) #fit numerical data\n",
    "#     ], remainder='passthrough')\n",
    "\n",
    "# X_train=ct.fit_transform(X_train_df)\n",
    "# X_test=ct.fit_transform(X_test_df) # am I losing information by fitting time? may not use this ..\n",
    "\n",
    "resultsDict = {}\n",
    "predictionsDict = {}"
   ]
  },
  {
   "cell_type": "code",
   "execution_count": null,
   "id": "de09b662-3301-407b-827f-1f18d76d51c1",
   "metadata": {},
   "outputs": [],
   "source": [
    "X_train_df.head(2)"
   ]
  },
  {
   "cell_type": "code",
   "execution_count": null,
   "id": "d0ae847d-fd32-4015-9140-8e0fd5ac2a1c",
   "metadata": {},
   "outputs": [],
   "source": [
    "X_test_df.head(2)"
   ]
  },
  {
   "cell_type": "markdown",
   "id": "aa8bb77c-ee8e-446e-8fd7-497a291b31c6",
   "metadata": {
    "tags": []
   },
   "source": [
    "## Lightgbm Model and Diagnostic Charts"
   ]
  },
  {
   "cell_type": "code",
   "execution_count": null,
   "id": "2825151e-17fb-49bf-9d3a-f23785e9bce5",
   "metadata": {},
   "outputs": [],
   "source": [
    "## TODO Cross Validation/ Grid Search parameters for more defined trees\n",
    "mpl.rcParams['agg.path.chunksize'] = 10000"
   ]
  },
  {
   "cell_type": "code",
   "execution_count": null,
   "id": "bef9e87e-5f38-49a6-8821-a36130206bb1",
   "metadata": {},
   "outputs": [],
   "source": [
    "EXPERIMENT_NAME = 'On_Rent_Time_Series'\n",
    "mlflow.set_runName = 'lgbm predictions'# doesnt do anything\n",
    "client = MlflowClient()\n",
    "experiments = client.list_experiments()\n",
    "if EXPERIMENT_NAME not in [e.name for e in experiments]:\n",
    "    mlflow.create_experiment(EXPERIMENT_NAME)"
   ]
  },
  {
   "cell_type": "code",
   "execution_count": null,
   "id": "c718ee66-4a04-4193-8033-4667a3c82f82",
   "metadata": {},
   "outputs": [],
   "source": [
    "mlflow.set_experiment(EXPERIMENT_NAME)\n",
    "with mlflow.start_run(run_name='simple_light'):\n",
    "    lightGBM = lgbm.LGBMRegressor()\n",
    "    lightGBM.fit(X_train_df.drop(columns='DRKey'), y_train)\n",
    "    yhat = lightGBM.predict(X_test_df.drop(columns='DRKey'))\n",
    "    resultsDict['Lightgbm'] = evaluate(df_test.OnRent, yhat)\n",
    "    predictionsDict['Lightgbm'] = yhat\n",
    "    mlflow.log_metrics(evaluate(df_test.OnRent, yhat))\n",
    "    signature = infer_signature(X_train_df.drop(columns='DRKey'), lightGBM.predict(X_test_df.drop(columns='DRKey')))\n",
    "    mlflow.lightgbm.log_model(lightGBM, \"lgbm\", signature = signature)\n",
    "    ## general diagnostics - \n",
    "    plt.plot(df_test.OnRent.values, label='Original')\n",
    "    plt.plot(yhat, color='red', label='lgbm')\n",
    "    plt.legend()\n",
    "    plt.savefig('images/AVP.png')\n",
    "    plt.clf()\n",
    "    shap_values = shap.TreeExplainer(lightGBM).shap_values(X_train_df.drop(columns='DRKey'))\n",
    "    shap.summary_plot(shap_values, X_train_df.drop(columns='DRKey'),show=False)\n",
    "    plt.savefig('images/shap.png',bbox_inches='tight')\n",
    "    plt.clf()\n",
    "    feature_imp = pd.DataFrame(sorted(zip(lightGBM.feature_importances_,X_train_df.drop(columns='DRKey').columns)), columns=['Value','Feature'])\n",
    "    plt.figure(figsize=(20, 10))\n",
    "    data=feature_imp.sort_values(by=\"Value\", ascending=False).head(30)\n",
    "    sns.barplot(x=\"Value\", y=\"Feature\", data=data)\n",
    "    plt.title('LightGBM Features (avg over folds)')\n",
    "    plt.savefig('images/lgbm_importances-01.png')\n",
    "    plt.clf()\n",
    "    mlflow.log_artifacts(\"images\", artifact_path=\"diagnostics\")\n",
    "mlflow.end_run"
   ]
  },
  {
   "cell_type": "markdown",
   "id": "c4bb5a33-d4c2-419b-a704-f03f9b677d3d",
   "metadata": {},
   "source": [
    "## Forecaster for univerariate models \n",
    "\n",
    "#### Dont run if you dont have appropriate conda env - will break azure auto ml"
   ]
  },
  {
   "cell_type": "code",
   "execution_count": null,
   "id": "00d87694-314c-4c3b-9294-85d2f2ca1482",
   "metadata": {},
   "outputs": [],
   "source": [
    "#df_test=df_test[['EffectiveDate','DRKey','lgbm','OnRent']]"
   ]
  },
  {
   "cell_type": "code",
   "execution_count": null,
   "id": "59d20d37-a116-4970-9884-60759f1607a5",
   "metadata": {},
   "outputs": [],
   "source": [
    "forecaster_data=input_data_copy.copy()"
   ]
  },
  {
   "cell_type": "code",
   "execution_count": null,
   "id": "e0416e41-4219-4404-b324-25dbe0d6ec9f",
   "metadata": {},
   "outputs": [],
   "source": [
    "#forecaster_data.drop(forecaster_data.loc[forecaster_data[date_column] < '2015-05-01 00:00:00'].index, inplace=True) # prob dont need because data is from 2016\n",
    "forecaster_data.drop(forecaster_data.loc[forecaster_data[date_column] > '2020-02-01 01:00:00'].index, inplace=True)\n",
    "forecaster_data=forecaster_data[['DRKey','EffectiveDate','OnRent']]"
   ]
  },
  {
   "cell_type": "code",
   "execution_count": null,
   "id": "4a89ea35-954f-437e-9d07-26315bb5ae24",
   "metadata": {},
   "outputs": [],
   "source": [
    "forecaster_data.rename(columns={'DRKey': 'unique_id'},inplace = True)\n",
    "forecaster_data.rename(columns={'EffectiveDate': 'ds'},inplace = True)\n",
    "forecaster_data.rename(columns={'OnRent': 'y'},inplace = True)\n",
    "date_column = 'ds' #changing column name for stat forecast\n",
    "df_forecaster_training = forecaster_data.loc[forecaster_data[date_column] <= split_date]\n",
    "df_forecaster_test = forecaster_data.loc[forecaster_data[date_column] > split_date]"
   ]
  },
  {
   "cell_type": "code",
   "execution_count": null,
   "id": "ec40d95f-7b1b-4df5-91a8-4cad9c3b92ee",
   "metadata": {},
   "outputs": [],
   "source": [
    "df_forecaster_training.head()"
   ]
  },
  {
   "cell_type": "code",
   "execution_count": null,
   "id": "508b793e-30a9-467f-9127-ffcddb1bdcc3",
   "metadata": {},
   "outputs": [],
   "source": [
    "n_series = 1\n",
    "seasonality = 70\n",
    "models = [\n",
    "    naive,\n",
    "    historic_average,\n",
    "    random_walk_with_drift,\n",
    "    (seasonal_exponential_smoothing, seasonality, 0.6),\n",
    "    (seasonal_naive, seasonality),\n",
    "    auto_arima\n",
    "]\n",
    "fcst = StatsForecast(df_forecaster_training.set_index('unique_id'), models=models, freq='D', \n",
    "                     n_jobs=min(cpu_count(), n_series))"
   ]
  },
  {
   "cell_type": "code",
   "execution_count": null,
   "id": "909108ce-fd99-450f-ab75-d6e357c1220e",
   "metadata": {},
   "outputs": [],
   "source": [
    "init = time.time()\n",
    "with np.errstate(invalid='ignore'):\n",
    "    forecasts = fcst.forecast(256)\n",
    "end = time.time()\n",
    "\n",
    "time_nixtla = end - init\n",
    "time_nixtla"
   ]
  },
  {
   "cell_type": "code",
   "execution_count": null,
   "id": "b6d3b78a-2ecc-4d15-a501-238e8c631075",
   "metadata": {},
   "outputs": [],
   "source": [
    "forecasts = forecasts.reset_index()"
   ]
  },
  {
   "cell_type": "code",
   "execution_count": null,
   "id": "ad930c58-f740-4f8a-83e1-868629024649",
   "metadata": {},
   "outputs": [],
   "source": [
    "df_test_merge=df_test.merge(forecasts, how='left', left_on=['DRKey','EffectiveDate'],right_on=['unique_id', 'ds'])"
   ]
  },
  {
   "cell_type": "code",
   "execution_count": null,
   "id": "893b9f07-1e7e-49d7-a901-bbfccdf5b1b9",
   "metadata": {},
   "outputs": [],
   "source": [
    "df_test_merge.drop(columns =['unique_id','ds'], inplace = True)"
   ]
  },
  {
   "cell_type": "code",
   "execution_count": null,
   "id": "7766f859-7445-4751-ba7b-48f7086de815",
   "metadata": {},
   "outputs": [],
   "source": [
    "df_test_merge.head()"
   ]
  },
  {
   "cell_type": "code",
   "execution_count": null,
   "id": "5a6efe28-78a6-4200-a35b-d8282e63cb6b",
   "metadata": {},
   "outputs": [],
   "source": [
    "error_metric={}\n",
    "for x in df_test_merge.columns :\n",
    "    if(x not in ['EffectiveDate','DRKey','OnRent']):\n",
    "        error_metric[x]=(evaluate(df_test_merge.OnRent, df_test_merge[x]))"
   ]
  },
  {
   "cell_type": "code",
   "execution_count": null,
   "id": "0679487d-a79b-4420-9d91-0d7ac4a0ded1",
   "metadata": {},
   "outputs": [],
   "source": [
    "error_metric"
   ]
  },
  {
   "cell_type": "code",
   "execution_count": null,
   "id": "08fcaa79-f34a-4a28-8a33-84892a2f05a4",
   "metadata": {},
   "outputs": [],
   "source": [
    "#df_test_merge.to_csv('forecast_lightgbm_arima.csv')"
   ]
  }
 ],
 "metadata": {
  "kernelspec": {
   "display_name": "Python 3.8 - AzureML",
   "language": "python",
   "name": "python38-azureml"
  },
  "language_info": {
   "codemirror_mode": {
    "name": "ipython",
    "version": 3
   },
   "file_extension": ".py",
   "mimetype": "text/x-python",
   "name": "python",
   "nbconvert_exporter": "python",
   "pygments_lexer": "ipython3",
   "version": "3.8.5"
  }
 },
 "nbformat": 4,
 "nbformat_minor": 5
}
